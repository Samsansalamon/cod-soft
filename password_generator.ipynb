{
  "nbformat": 4,
  "nbformat_minor": 0,
  "metadata": {
    "colab": {
      "provenance": [],
      "authorship_tag": "ABX9TyPZYunPF2Ce04XM1IfCVM//",
      "include_colab_link": true
    },
    "kernelspec": {
      "name": "python3",
      "display_name": "Python 3"
    },
    "language_info": {
      "name": "python"
    }
  },
  "cells": [
    {
      "cell_type": "markdown",
      "metadata": {
        "id": "view-in-github",
        "colab_type": "text"
      },
      "source": [
        "<a href=\"https://colab.research.google.com/github/Samsansalamon/cod-soft/blob/main/password_generator.ipynb\" target=\"_parent\"><img src=\"https://colab.research.google.com/assets/colab-badge.svg\" alt=\"Open In Colab\"/></a>"
      ]
    },
    {
      "cell_type": "code",
      "execution_count": null,
      "metadata": {
        "colab": {
          "base_uri": "https://localhost:8080/"
        },
        "id": "d0xdF3OENRTn",
        "outputId": "05eb89aa-afae-43c0-aa04-bf7b0b35d3b3"
      },
      "outputs": [
        {
          "output_type": "stream",
          "name": "stdout",
          "text": [
            "Enter the desired length of the password (0 to exit): 657\n",
            "Generated Password: g9-YNBszzIIT^QO891ph?R$N&}MD@<lqU?|S3;KP@IV!i^FMt,@,X%3xM$uFD%'F)V#qpniv#[?mv=jh]sG-F344l'B`WV[prZu^l[Y46S\\QYtVicHqD\"nU~_9M\"A^~C=DasxEW-gA#)9fxD'Ic<6~UCZ#cA`zkq<zAJ-=J/xmPX37D@$fdcN!6^oA$iJ;UU$jz!Y$c(}Hojco[Kb8yt1onl{hl'o33iho~B[pP><70VM8OY*E\"\\';|lbhcDZ\"J.QEQH_gQpqu^CBY=^9^#>Nktz7`p-!QtE755pkC?266rmLX8*b`eAK,*ra^YZtf(5\\,he/aPif%bbP9]$B\"y2)wiD82&4(Au7uqy[Vm?k5s7bmCIPCa7z%gSH<g9+O30H[(]AodF%d41q/;t;0Ho<2gK:(d#hHyxz=j0*C&xFj`0P1LhanX$Fg[]0-cfwE4Bu's@&3;K&iuF#Fur{3,SZ&@5ZD5%yek[puxk(vZ?iYmNmIUUdzsBU;@Y|3\"FA)|h\\5+:~Ycx3i6(O+<M.bv2hJ\\=tTq4S+*G=9J7|^gS'[4ASM+8H}\"-U7n;`]S\"igtC5d&*O]zb'Viw;t^Y6t-}7i;wHS'%.!t`{tdNB,R-b>FkFknGQ[K\"7~P#!1yysr4H^i;r/3EJoIDXkAHC\"1\n",
            "Enter the desired length of the password (0 to exit): 2\n",
            "Generated Password: 1^Yp%.R#\n",
            "Enter the desired length of the password (0 to exit): 67\n",
            "Generated Password: ~iS\\X<]s(zF7W7{vNP'lJ1bL5i4GBFT_)nHw?-G{+5#*d>d^.0r#~PX,;uW~<HH';DW\n"
          ]
        }
      ],
      "source": [
        "import random\n",
        "import string\n",
        "def generate_password(length):\n",
        "\n",
        "    lower_case = string.ascii_lowercase\n",
        "    upper_case = string.ascii_uppercase\n",
        "    digits = string.digits\n",
        "    special_characters = string.punctuation\n",
        "\n",
        "\n",
        "    all_characters = lower_case + upper_case + digits + special_characters\n",
        "\n",
        "\n",
        "    if length < 8:\n",
        "        length = 8\n",
        "\n",
        "\n",
        "    password = ''.join(random.choice(all_characters) for _ in range(length))\n",
        "\n",
        "    return password\n",
        "\n",
        "def main():\n",
        "    while True:\n",
        "        try:\n",
        "            length = int(input(\"Enter the desired length of the password (0 to exit): \"))\n",
        "            if length == 0:\n",
        "                break\n",
        "            password = generate_password(length)\n",
        "            print(\"Generated Password:\", password)\n",
        "        except ValueError:\n",
        "            print(\"Invalid input. Please enter a valid integer for password length.\")\n",
        "\n",
        "if __name__ == \"__main__\":\n",
        "    main()\n",
        "\n",
        "\n"
      ]
    },
    {
      "cell_type": "code",
      "source": [],
      "metadata": {
        "id": "AmvJ8cRpNXF0"
      },
      "execution_count": null,
      "outputs": []
    }
  ]
}