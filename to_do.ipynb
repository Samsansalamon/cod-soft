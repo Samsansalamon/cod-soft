{
  "nbformat": 4,
  "nbformat_minor": 0,
  "metadata": {
    "colab": {
      "provenance": [],
      "authorship_tag": "ABX9TyMzi8YNdfJ/Rj3BucO1VQ6D",
      "include_colab_link": true
    },
    "kernelspec": {
      "name": "python3",
      "display_name": "Python 3"
    },
    "language_info": {
      "name": "python"
    }
  },
  "cells": [
    {
      "cell_type": "markdown",
      "metadata": {
        "id": "view-in-github",
        "colab_type": "text"
      },
      "source": [
        "<a href=\"https://colab.research.google.com/github/Samsansalamon/cod-soft/blob/main/to_do.ipynb\" target=\"_parent\"><img src=\"https://colab.research.google.com/assets/colab-badge.svg\" alt=\"Open In Colab\"/></a>"
      ]
    },
    {
      "cell_type": "code",
      "source": [],
      "metadata": {
        "id": "9mFlvbxKNFvU"
      },
      "execution_count": null,
      "outputs": []
    },
    {
      "cell_type": "code",
      "execution_count": 1,
      "metadata": {
        "colab": {
          "base_uri": "https://localhost:8080/"
        },
        "id": "Xx5i2uG6M4eB",
        "outputId": "2a13cd55-0cb7-41b4-dadc-078be75617a2"
      },
      "outputs": [
        {
          "name": "stdout",
          "output_type": "stream",
          "text": [
            "\n",
            "Options:\n",
            "1. Add Task\n",
            "2. View Tasks\n",
            "3. Mark Task as Done\n",
            "4. Quit\n",
            "Enter your choice: 1\n",
            "Enter a task: write\n",
            "Task added successfully!\n",
            "\n",
            "Options:\n",
            "1. Add Task\n",
            "2. View Tasks\n",
            "3. Mark Task as Done\n",
            "4. Quit\n",
            "Enter your choice: 1\n",
            "Enter a task: read\n",
            "Task added successfully!\n",
            "\n",
            "Options:\n",
            "1. Add Task\n",
            "2. View Tasks\n",
            "3. Mark Task as Done\n",
            "4. Quit\n",
            "Enter your choice: 2\n",
            "To-Do List:\n",
            "1. write\n",
            "2. read\n",
            "\n",
            "Options:\n",
            "1. Add Task\n",
            "2. View Tasks\n",
            "3. Mark Task as Done\n",
            "4. Quit\n",
            "Enter your choice: 3\n",
            "To-Do List:\n",
            "1. write\n",
            "2. read\n",
            "Enter the task number to mark as done: read\n",
            "Invalid input. Please enter a valid task number.\n",
            "\n",
            "Options:\n",
            "1. Add Task\n",
            "2. View Tasks\n",
            "3. Mark Task as Done\n",
            "4. Quit\n",
            "Enter your choice: 4\n"
          ]
        }
      ],
      "source": [
        "\n",
        "tasks = []\n",
        "\n",
        "\n",
        "def add_task():\n",
        "    task = input(\"Enter a task: \")\n",
        "    tasks.append(task)\n",
        "    print(\"Task added successfully!\")\n",
        "\n",
        "\n",
        "def view_tasks():\n",
        "    if tasks:\n",
        "        print(\"To-Do List:\")\n",
        "        for i, task in enumerate(tasks, start=1):\n",
        "            print(f\"{i}. {task}\")\n",
        "    else:\n",
        "        print(\"No tasks found.\")\n",
        "\n",
        "\n",
        "def mark_task_done():\n",
        "    view_tasks()\n",
        "    if tasks:\n",
        "        try:\n",
        "            task_num = int(input(\"Enter the task number to mark as done: \"))\n",
        "            if 1 <= task_num <= len(tasks):\n",
        "                del tasks[task_num - 1]\n",
        "                print(\"Task marked as done!\")\n",
        "            else:\n",
        "                print(\"Invalid task number.\")\n",
        "        except ValueError:\n",
        "            print(\"Invalid input. Please enter a valid task number.\")\n",
        "    else:\n",
        "        print(\"No tasks found.\")\n",
        "\n",
        "\n",
        "while True:\n",
        "    print(\"\\nOptions:\")\n",
        "    print(\"1. Add Task\")\n",
        "    print(\"2. View Tasks\")\n",
        "    print(\"3. Mark Task as Done\")\n",
        "    print(\"4. Quit\")\n",
        "\n",
        "    choice = input(\"Enter your choice: \")\n",
        "\n",
        "    if choice == '1':\n",
        "        add_task()\n",
        "    elif choice == '2':\n",
        "        view_tasks()\n",
        "    elif choice == '3':\n",
        "        mark_task_done()\n",
        "    elif choice == '4':\n",
        "        break\n",
        "    else:\n",
        "        print(\"Invalid choice. Please try again.\")\n",
        "\n"
      ]
    },
    {
      "cell_type": "code",
      "source": [],
      "metadata": {
        "id": "bIao-UI8M6em"
      },
      "execution_count": null,
      "outputs": []
    }
  ]
}