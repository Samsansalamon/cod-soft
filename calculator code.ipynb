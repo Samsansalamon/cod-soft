{
  "nbformat": 4,
  "nbformat_minor": 0,
  "metadata": {
    "colab": {
      "provenance": [],
      "authorship_tag": "ABX9TyOCX0u4Vnt7f+jqmEOH6jJ0",
      "include_colab_link": true
    },
    "kernelspec": {
      "name": "python3",
      "display_name": "Python 3"
    },
    "language_info": {
      "name": "python"
    }
  },
  "cells": [
    {
      "cell_type": "markdown",
      "metadata": {
        "id": "view-in-github",
        "colab_type": "text"
      },
      "source": [
        "<a href=\"https://colab.research.google.com/github/Samsansalamon/cod-soft/blob/main/calculator%20code.ipynb\" target=\"_parent\"><img src=\"https://colab.research.google.com/assets/colab-badge.svg\" alt=\"Open In Colab\"/></a>"
      ]
    },
    {
      "cell_type": "code",
      "execution_count": null,
      "metadata": {
        "colab": {
          "base_uri": "https://localhost:8080/"
        },
        "id": "cSeS-T08MFYn",
        "outputId": "958b3d5c-7a69-4132-e4ed-f928e6b67e6c"
      },
      "outputs": [
        {
          "output_type": "stream",
          "name": "stdout",
          "text": [
            "Options:\n",
            "Enter '1' for addition\n",
            "Enter '2' for subtraction\n",
            "Enter '3' for multiplication\n",
            "Enter '4' for division\n",
            "Enter 'exit' to end the program\n",
            "Enter your choice: 1\n",
            "Enter first number: 3\n",
            "Enter second number: 4\n",
            "Result:  7.0\n",
            "Options:\n",
            "Enter '1' for addition\n",
            "Enter '2' for subtraction\n",
            "Enter '3' for multiplication\n",
            "Enter '4' for division\n",
            "Enter 'exit' to end the program\n",
            "Enter your choice: 2\n",
            "Enter first number: 98\n",
            "Enter second number: 4\n",
            "Result:  94.0\n",
            "Options:\n",
            "Enter '1' for addition\n",
            "Enter '2' for subtraction\n",
            "Enter '3' for multiplication\n",
            "Enter '4' for division\n",
            "Enter 'exit' to end the program\n",
            "Enter your choice: 3\n",
            "Enter first number: 67\n",
            "Enter second number: 9\n",
            "Result:  603.0\n",
            "Options:\n",
            "Enter '1' for addition\n",
            "Enter '2' for subtraction\n",
            "Enter '3' for multiplication\n",
            "Enter '4' for division\n",
            "Enter 'exit' to end the program\n",
            "Enter your choice: 90\n",
            "Invalid input\n",
            "Options:\n",
            "Enter '1' for addition\n",
            "Enter '2' for subtraction\n",
            "Enter '3' for multiplication\n",
            "Enter '4' for division\n",
            "Enter 'exit' to end the program\n",
            "Enter your choice: 9\n",
            "Invalid input\n",
            "Options:\n",
            "Enter '1' for addition\n",
            "Enter '2' for subtraction\n",
            "Enter '3' for multiplication\n",
            "Enter '4' for division\n",
            "Enter 'exit' to end the program\n"
          ]
        }
      ],
      "source": [
        "def add(x, y):\n",
        "    return x + y\n",
        "def subtract(x, y):\n",
        "    return x - y\n",
        "def multiply(x, y):\n",
        "    return x * y8\n",
        "    if y == 0:\n",
        "        return \"Cannot divide by zero\"\n",
        "    return x / y\n",
        "while True:\n",
        "    print(\"Options:\")\n",
        "    print(\"Enter '1' for addition\")\n",
        "    print(\"Enter '2' for subtraction\")\n",
        "    print(\"Enter '3' for multiplication\")\n",
        "    print(\"Enter '4' for division\")\n",
        "    print(\"Enter 'exit' to end the program\")\n",
        "\n",
        "    choice = input(\"Enter your choice: \")\n",
        "\n",
        "    if choice == 'exit':\n",
        "        break\n",
        "\n",
        "    if choice not in ('1', '2', '3', '4'):\n",
        "        print(\"Invalid input\")\n",
        "        continue\n",
        "\n",
        "    num1 = float(input(\"Enter first number: \"))\n",
        "    num2 = float(input(\"Enter second number: \"))\n",
        "\n",
        "    if choice == '1':\n",
        "        result = add(num1, num2)\n",
        "    elif choice == '2':\n",
        "        result = subtract(num1, num2)\n",
        "    elif choice == '3':\n",
        "        result = multiply(num1, num2)\n",
        "    elif choice == '4':\n",
        "        result = divide(num1, num2)\n",
        "\n",
        "    print(\"Result: \", result)\n"
      ]
    },
    {
      "cell_type": "code",
      "source": [],
      "metadata": {
        "id": "XXm1TVqMMgft"
      },
      "execution_count": null,
      "outputs": []
    }
  ]
}